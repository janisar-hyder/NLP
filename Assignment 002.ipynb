{
 "cells": [
  {
   "cell_type": "code",
   "execution_count": 2,
   "metadata": {},
   "outputs": [
    {
     "data": {
      "text/html": [
       "<table><tr><th>Named Entity</th><th>Label</th></tr><tr><td>Apple</td><td>GPE</td></tr><tr><td>India</td><td>GPE</td></tr><tr><td>AAPL</td><td>ORGANIZATION</td></tr><tr><td>United States</td><td>GPE</td></tr><tr><td>Abdul Rafay</td><td>PERSON</td></tr></table>"
      ],
      "text/plain": [
       "<IPython.core.display.HTML object>"
      ]
     },
     "metadata": {},
     "output_type": "display_data"
    }
   ],
   "source": [
    "import nltk\n",
    "from nltk import pos_tag, ne_chunk, word_tokenize\n",
    "from IPython.display import display, HTML\n",
    "\n",
    "input_text = '''Apple plans to acquire a startup based in India for $6 million USD, resulting in a 15% surge in AAPL stock prices in the United States, as reported by Abdul Rafay.'''\n",
    "\n",
    "sentences = nltk.sent_tokenize(input_text)\n",
    "tokenized_sentences = [word_tokenize(sentence) for sentence in sentences]\n",
    "pos_tagged_sentences = [pos_tag(tokens) for tokens in tokenized_sentences]\n",
    "chunked_sentences = nltk.ne_chunk_sents(pos_tagged_sentences)\n",
    "\n",
    "named_entities = []\n",
    "\n",
    "for sent in chunked_sentences:\n",
    "    for chunk in sent:\n",
    "        if hasattr(chunk, \"label\"):\n",
    "            named_entities.append(chunk)\n",
    "\n",
    "html_output = \"<table>\"\n",
    "html_output += \"<tr><th>Named Entity</th><th>Label</th></tr>\"\n",
    "\n",
    "for entity in named_entities:\n",
    "    html_output += \"<tr>\"\n",
    "    if hasattr(entity, 'label'):\n",
    "        label = entity.label()\n",
    "        entity_name = ' '.join(c[0] for c in entity.leaves())\n",
    "        html_output += f\"<td>{entity_name}</td><td>{label}</td>\"\n",
    "    html_output += \"</tr>\"\n",
    "\n",
    "html_output += \"</table>\"\n",
    "\n",
    "display(HTML(html_output))"
   ]
  }
 ],
 "metadata": {
  "kernelspec": {
   "display_name": "Python 3",
   "language": "python",
   "name": "python3"
  },
  "language_info": {
   "codemirror_mode": {
    "name": "ipython",
    "version": 3
   },
   "file_extension": ".py",
   "mimetype": "text/x-python",
   "name": "python",
   "nbconvert_exporter": "python",
   "pygments_lexer": "ipython3",
   "version": "3.12.2"
  }
 },
 "nbformat": 4,
 "nbformat_minor": 2
}
