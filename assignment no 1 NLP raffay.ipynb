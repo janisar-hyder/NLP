{
 "cells": [
  {
   "cell_type": "code",
   "execution_count": 71,
   "metadata": {},
   "outputs": [
    {
     "data": {
      "text/html": [
       "<span style='background-color: #6082B6f6;padding:2px;border-radius:10px;color:white'>Apple (GPE)</span> intends to gather a startup primarily based totally in <span style='background-color: #6082B6f6;padding:2px;border-radius:10px;color:white'>India (GPE)</span> for $ 6 million USD , ensuing in a 15 % surge in <span style='background-color: #6082B6f6;padding:2px;border-radius:10px;color:white'>AAPL (GPE)</span> inventory expenses withinside the <span style='background-color: #6082B6f6;padding:2px;border-radius:10px;color:white'>United (GPE)</span> , as pronounced with the aid of using <span style='background-color: #6082B6f6;padding:2px;border-radius:10px;color:white'>ABDUL_RAFAY (ORGANIZATION)</span> . "
      ],
      "text/plain": [
       "<IPython.core.display.HTML object>"
      ]
     },
     "metadata": {},
     "output_type": "display_data"
    }
   ],
   "source": [
    "import nltk\n",
    "from nltk import pos_tag, ne_chunk, word_tokenize\n",
    "from IPython.display import display, HTML\n",
    "\n",
    "text = '''Apple intends to gather a startup primarily based totally in India for $6 million USD, \n",
    "ensuing in a 15% surge in AAPL inventory expenses withinside the United States, as pronounced with the aid of using ABDUL_RAFAY.'''\n",
    "pos_taggging = pos_tag(word_tokenize(text))\n",
    "t = ne_chunk(pos_taggging)\n",
    "output = ''\n",
    "for st in t:\n",
    "    if isinstance(st, nltk.Tree):\n",
    "        tag = st.label()\n",
    "        output =output + f\"<span style='background-color: #6082B6f6;padding:2px;border-radius:10px;color:white'>{st[0][0]} ({tag})</span> \"\n",
    "    else:\n",
    "        output =output + st[0] + ' '\n",
    "\n",
    "display(HTML(output))\n"
   ]
  }
 ],
 "metadata": {
  "kernelspec": {
   "display_name": "Python 3",
   "language": "python",
   "name": "python3"
  },
  "language_info": {
   "codemirror_mode": {
    "name": "ipython",
    "version": 3
   },
   "file_extension": ".py",
   "mimetype": "text/x-python",
   "name": "python",
   "nbconvert_exporter": "python",
   "pygments_lexer": "ipython3",
   "version": "3.12.2"
  }
 },
 "nbformat": 4,
 "nbformat_minor": 2
}
