{
 "cells": [
  {
   "cell_type": "markdown",
   "metadata": {},
   "source": [
    "# <font color=red>`Assignment 2`</font>\n",
    "##    <font color=red>Submitted By:</font> M.Janisar\n",
    "##    <font color=red>Registration No:</font> SP22-BCS-047"
   ]
  },
  {
   "cell_type": "code",
   "execution_count": 11,
   "metadata": {},
   "outputs": [
    {
     "data": {
      "text/html": [
       "My name is <span style='background: radial-gradient(circle, rgba(165,178,242,1) 0%, rgba(21,104,203,1) 100%); padding:2px; border-radius:3px; color:black'>Muhammad Janisar (PERSON)</span> , and I am a student at <span style='background: linear-gradient(90deg, rgba(203,21,21,1) 7%, rgba(255,156,156,1) 50%, rgba(195,18,18,1) 90%); padding:2px; border-radius:3px; color:black'>COMSATS University Islamabad (ORGANIZATION)</span> , <span style='background: radial-gradient(circle, rgba(165,178,242,1) 0%, rgba(21,104,203,1) 100%); padding:2px; border-radius:3px; color:black'>Vehari Campus (PERSON)</span> . My father 's name is <span style='background: radial-gradient(circle, rgba(165,178,242,1) 0%, rgba(21,104,203,1) 100%); padding:2px; border-radius:3px; color:black'>Akhtar Hussain (PERSON)</span> . Last month , in February , I paid my university fees amounting to <span style='background: linear-gradient(90deg, rgba(203,188,21,1) 10%, rgba(246,255,107,1) 50%, rgba(185,195,18,1) 87%); padding:2px; border-radius:3px; color:black'>Rs (GPE)</span> . 72,000 . "
      ],
      "text/plain": [
       "<IPython.core.display.HTML object>"
      ]
     },
     "metadata": {},
     "output_type": "display_data"
    }
   ],
   "source": [
    "import nltk\n",
    "from nltk import pos_tag, ne_chunk, word_tokenize\n",
    "from IPython.display import display, HTML\n",
    "\n",
    "input_text = '''My name is Muhammad Janisar, and I am a student at COMSATS University Islamabad, Vehari Campus. My father's name is Akhtar Hussain. Last month, in February, I paid my university fees amounting to Rs. 72,000.'''\n",
    "\n",
    "custom_sent_tokenizer = nltk.PunktSentenceTokenizer()\n",
    "sentences = custom_sent_tokenizer.tokenize(input_text)\n",
    "\n",
    "word_tokens = [word_tokenize(sent) for sent in sentences]\n",
    "\n",
    "pos_tags = [pos_tag(tokens) for tokens in word_tokens]\n",
    "\n",
    "chunked_entities = [ne_chunk(tagged_tokens) for tagged_tokens in pos_tags]\n",
    "\n",
    "entity_colors = {\n",
    "    'ORGANIZATION': 'linear-gradient(90deg, rgba(203,21,21,1) 7%, rgba(255,156,156,1) 50%, rgba(195,18,18,1) 90%)', \n",
    "    'GPE': 'linear-gradient(90deg, rgba(203,188,21,1) 10%, rgba(246,255,107,1) 50%, rgba(185,195,18,1) 87%)',  \n",
    "    'PERSON': 'radial-gradient(circle, rgba(165,178,242,1) 0%, rgba(21,104,203,1) 100%)', \n",
    "    'MONEY': '#FF33FF' \n",
    "}\n",
    "\n",
    "styled_output = \"\"\n",
    "\n",
    "for sent in chunked_entities:\n",
    "    for chunk in sent:\n",
    "        if isinstance(chunk, nltk.Tree):\n",
    "            entity_name = ' '.join(c[0] for c in chunk.leaves())\n",
    "            label = chunk.label()\n",
    "            color = entity_colors.get(label, 'black')\n",
    "            styled_output += f\"<span style='background: {color}; padding:2px; border-radius:3px; color:black'>{entity_name} ({label})</span> \"\n",
    "        else:\n",
    "            styled_output += chunk[0] + \" \"\n",
    "\n",
    "display(HTML(styled_output))\n"
   ]
  }
 ],
 "metadata": {
  "language_info": {
   "codemirror_mode": {
    "name": "ipython",
    "version": 3
   },
   "file_extension": ".py",
   "mimetype": "text/x-python",
   "name": "python",
   "nbconvert_exporter": "python",
   "pygments_lexer": "ipython3",
   "version": 3
  }
 },
 "nbformat": 4,
 "nbformat_minor": 2
}
