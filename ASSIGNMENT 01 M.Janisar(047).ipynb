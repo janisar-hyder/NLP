{
 "cells": [
  {
   "cell_type": "markdown",
   "metadata": {},
   "source": [
    "# <font color=red>`Assignment 1`</font>\n",
    "##    <font color=red>Submitted By:</font> M.Janisar\n",
    "##    <font color=red>Registration No:</font> SP22-BCS-047"
   ]
  },
  {
   "cell_type": "markdown",
   "metadata": {},
   "source": [
    "## `BASIC IMPORTS`"
   ]
  },
  {
   "cell_type": "code",
   "execution_count": 10,
   "metadata": {},
   "outputs": [],
   "source": [
    "import spacy\n",
    "from spacy import displacy\n",
    "from nltk.stem.snowball import SnowballStemmer\n",
    "import string\n",
    "import re\n",
    "import nltk\n",
    "# nltk.download('stopwords')\n",
    "# nltk.download('punkt')\n",
    "from nltk import word_tokenize,sent_tokenize\n",
    "from nltk.corpus import stopwords\n",
    "nlp = spacy.load(\"en_core_web_sm\")\n",
    "s_stemmer = SnowballStemmer(language='english')\n",
    "\n",
    "txt1 = \"The policeman squatted down beside me and said, ‘Would you like to tell me what’s going on here, young man?’\"\n",
    "\n",
    "txt2 = \"Music has long been a part of Pakistani culture, and the country was greatly influenced by the northern Indian tradition of Hindustani music. Traditional and local styles abound. The ghazal, a type of romantic poem, is often put to music. Ghazal singers such as Mehdi Hassan and Ghulam Ali have developed a broad following at home and abroad. Qawwali, a form of devotional singing associated with Sufism, is also widely practiced and has influenced a number of popular styles.\"\n"
   ]
  },
  {
   "cell_type": "markdown",
   "metadata": {},
   "source": [
    "## `TOKENIZATION`"
   ]
  },
  {
   "cell_type": "code",
   "execution_count": 9,
   "metadata": {},
   "outputs": [],
   "source": [
    "def tokenization(doc):\n",
    "\n",
    "    print(\"\\nTokenization Result:\")\n",
    "    print(\"********************\")\n",
    "    for t in doc:\n",
    "        print(t)\n"
   ]
  },
  {
   "cell_type": "markdown",
   "metadata": {},
   "source": [
    "## `Stop Words and Punctuation Removing`"
   ]
  },
  {
   "cell_type": "code",
   "execution_count": 8,
   "metadata": {},
   "outputs": [],
   "source": [
    "def stopwords_and_punc_removal(doc):\n",
    "\n",
    "    # prepare regex for char filtering\n",
    "    re_punc = re.compile('[%s]' % re.escape(string.punctuation))\n",
    "\n",
    "    print(\"\\n\\nremoving punctuation from each word\")\n",
    "    stripped = [re_punc.sub('', w.text) for w in doc]  # Extract text from token objects\n",
    "    print(stripped)\n",
    "    \n",
    "    print(\"\\n\\nremoving remaining tokens that are not alphabetic\")\n",
    "    words = [word for word in stripped if word.isalpha()]\n",
    "    print(words)\n",
    "\n",
    "    print(\"\\n\\nfiltering out non-stop words\")\n",
    "    stop_words = set(stopwords.words('english'))\n",
    "    words = [w for w in words if not w in stop_words]\n",
    "    print(words)\n"
   ]
  },
  {
   "cell_type": "markdown",
   "metadata": {},
   "source": [
    "## `POS TAGGING`"
   ]
  },
  {
   "cell_type": "code",
   "execution_count": 7,
   "metadata": {},
   "outputs": [],
   "source": [
    "\n",
    "def pos_tagging(doc):\n",
    "    print(\"\\nPOS Tagging Result:\")\n",
    "    print(\"********************\")\n",
    "    for token in doc:\n",
    "        print(f'{token.text:{10}} {token.pos_:{8}} {token.tag_:{6}} {spacy.explain(token.tag_)}')\n"
   ]
  },
  {
   "cell_type": "markdown",
   "metadata": {},
   "source": [
    "## `LEMMATIZATION and STEMMING`"
   ]
  },
  {
   "cell_type": "code",
   "execution_count": 6,
   "metadata": {},
   "outputs": [],
   "source": [
    "\n",
    "def lemma_and_stemming(doc):\n",
    "    print(\"\\nLemmatization Result:\\n\")\n",
    "    print(\"********************\")\n",
    "    for token in doc:\n",
    "        print(f'{token.text:{15}} {token.lemma_}')\n",
    "\n",
    "    \n",
    "    print(\"\\nStemming Result:\")\n",
    "    print(\"********************\")\n",
    "    for word in doc:\n",
    "        print(word.text + ' --> ' + s_stemmer.stem(word.text))\n",
    "  "
   ]
  },
  {
   "cell_type": "markdown",
   "metadata": {},
   "source": [
    "## `VISUALIZNG and RENDERING`"
   ]
  },
  {
   "cell_type": "code",
   "execution_count": 5,
   "metadata": {},
   "outputs": [],
   "source": [
    "\n",
    "def Visualizing(doc):\n",
    "   \n",
    "   for sent in doc.sents:\n",
    "    docx = nlp(sent.text)\n",
    "    if docx.ents:\n",
    "        displacy.render(docx, style='ent', jupyter=True)\n",
    "    else:\n",
    "        print(\"\\n********************\")\n",
    "        print(\"No Name Entity Found!!!!!\\n\")\n",
    "        print(docx.text)\n",
    "\n",
    "    # Rendering\n",
    "    displacy.render(doc, style='dep', jupyter=True, options={'distance': 110})\n"
   ]
  },
  {
   "cell_type": "markdown",
   "metadata": {},
   "source": [
    "## `Main Menu and Calling Functions`"
   ]
  },
  {
   "cell_type": "code",
   "execution_count": 4,
   "metadata": {},
   "outputs": [
    {
     "name": "stdout",
     "output_type": "stream",
     "text": [
      "\n",
      "Choose a function to perform:\n",
      "1. Tokenization\n",
      "2. Stop Words and Punctuation Removal\n",
      "3. POS Tagging\n",
      "4. lemma_and_stemming\n",
      "5. Visualizing\n",
      "6. Exit\n",
      "Exiting...\n"
     ]
    }
   ],
   "source": [
    "\n",
    "T1 = nlp(txt1)\n",
    "T2= nlp(txt2)\n",
    "\n",
    "def menu():\n",
    "    while True:\n",
    "        print(\"\\nChoose a function to perform:\")\n",
    "        print(\"1. Tokenization\")\n",
    "        print(\"2. Stop Words and Punctuation Removal\")\n",
    "        print(\"3. POS Tagging\")\n",
    "        print(\"4. lemma_and_stemming\")\n",
    "        print(\"5. Visualizing\")\n",
    "        print(\"6. Exit\")\n",
    "\n",
    "        choice = input(\"Enter your choice (1-6): \")\n",
    "\n",
    "        if choice == '1':\n",
    "            tokenization(T1)\n",
    "        elif choice == '2':\n",
    "            stopwords_and_punc_removal(T1)\n",
    "        elif choice == '3':\n",
    "            pos_tagging(T1)\n",
    "        elif choice == '4':\n",
    "            lemma_and_stemming(T1)\n",
    "        elif choice == '5':\n",
    "            Visualizing(T2)\n",
    "        elif choice == '6':\n",
    "            print(\"Exiting...\")\n",
    "            break\n",
    "        else:\n",
    "            print(\"Invalid choice. Please enter a number between 1 and 6.\")\n",
    "\n",
    "\n",
    "menu()"
   ]
  }
 ],
 "metadata": {
  "kernelspec": {
   "display_name": "Python 3",
   "language": "python",
   "name": "python3"
  },
  "language_info": {
   "codemirror_mode": {
    "name": "ipython",
    "version": 3
   },
   "file_extension": ".py",
   "mimetype": "text/x-python",
   "name": "python",
   "nbconvert_exporter": "python",
   "pygments_lexer": "ipython3",
   "version": "3.12.2"
  }
 },
 "nbformat": 4,
 "nbformat_minor": 2
}
